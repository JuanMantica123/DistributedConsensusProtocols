{
 "cells": [
  {
   "cell_type": "code",
   "execution_count": 1,
   "metadata": {
    "collapsed": true
   },
   "outputs": [],
   "source": [
    "import random \n",
    "import matplotlib.pyplot as plt"
   ]
  },
  {
   "cell_type": "code",
   "execution_count": 2,
   "metadata": {
    "collapsed": true
   },
   "outputs": [],
   "source": [
    "def create_nodes_messages(min_input,max_input,num_nodes):\n",
    "    \"\"\"The nodes array keeps track of the value for the node, which at first is their input, \n",
    "    which is generated as a random number between the given parameters.\n",
    "    The messages are kept track in al ist where the index of the node \n",
    "     are the messages meant for it. Note that the list will store the messages as [message,delay of message]\n",
    "    \"\"\"\n",
    "    nodes = []\n",
    "    messages_delay = []\n",
    "    for i in xrange(num_nodes):\n",
    "        node_input = random.uniform(min_input,max_input)\n",
    "#        id_input = (i,node_input)\n",
    "        nodes.append(node_input)\n",
    "        messages_delay.append([])\n",
    "    return nodes,messages_delay"
   ]
  },
  {
   "cell_type": "code",
   "execution_count": 11,
   "metadata": {
    "collapsed": true
   },
   "outputs": [],
   "source": [
    "def multicast(node_id,messages_delay,message,min_delay,max_delay):\n",
    "    \"\"\"Updates list_message_delay by generating a random delay for each node and\n",
    "    appending the [message, delay] to the list of messages for the given node\n",
    "        Also note that a node won't send a message to itself,therefore the function will only send the message if i!=node_id\n",
    "    \"\"\"\n",
    "    for i in xrange(len(messages_delay)):\n",
    "        if i!=node_id:\n",
    "            delay = random.randint(min_delay,max_delay)\n",
    "            messages_delay[i].append([message,delay])\n",
    "    return messages_delay"
   ]
  },
  {
   "cell_type": "code",
   "execution_count": 1,
   "metadata": {
    "collapsed": true
   },
   "outputs": [],
   "source": [
    "def receive_update(messages_delay,nodes,node_id,debug):\n",
    "    \"\"\"Updates the given messages for a given node by either receiving the node if delay==0\n",
    "        or decreasing delay by 1. \n",
    "    \"\"\"\n",
    "    message_for_node = messages_delay[node_id]\n",
    "    messages_received = []\n",
    "    length_messages = len(message_for_node)\n",
    "    i = 0\n",
    "    while i<length_messages:\n",
    "        message_delay = message_for_node[i]\n",
    "        if(message_delay[1]==0):\n",
    "            messages_received.append(message_delay[0])\n",
    "            del(messages_delay[node_id][i])\n",
    "            i-=1\n",
    "            length_messages -=1\n",
    "        else:\n",
    "            message_delay[1]-=1\n",
    "        i+=1\n",
    "    if(len(messages_received) != 0):\n",
    "        sum_received = sum(messages_received)\n",
    "        amount = len(messages_received)\n",
    "        avg_message = sum_received/amount\n",
    "        if debug: \n",
    "            print \"Node # {} : Messages Received: {}\".format(node_id,messages_received)\n",
    "            print \"Sum messages: {}\".format(sum_received) \n",
    "            print \"Amount of messages: {}\".format(amount) \n",
    "            print \"Avg of messages received {}\".format(avg_message)\n",
    "        nodes[node_id] = (nodes[node_id] + avg_message)/2.0\n",
    "    \n",
    "    return nodes, messages_delay\n"
   ]
  },
  {
   "cell_type": "code",
   "execution_count": 14,
   "metadata": {
    "collapsed": true
   },
   "outputs": [],
   "source": [
    "#Evaulates if the nodes have converged\n",
    "def is_converged(nodes,e):\n",
    "    for i in range(len(nodes)):\n",
    "        for j in range(i+1,len(nodes)):\n",
    "            if(abs(nodes[i]-nodes[j])>e):\n",
    "                return False\n",
    "    return True"
   ]
  },
  {
   "cell_type": "code",
   "execution_count": 2,
   "metadata": {
    "collapsed": true
   },
   "outputs": [],
   "source": [
    "#Also note that in our definition of multicast a node does not send messages to itself\n",
    "def simul_concensus_protocol(min_delay,max_delay,max_input = 1,num_nodes=100, e=1,debug=False):\n",
    "    min_input = 0\n",
    "    num_runs = 0\n",
    "    nodes , messages_delay = create_nodes_messages(min_input,max_input,num_nodes)\n",
    "    while not(is_converged(nodes,e)):\n",
    "        num_runs +=1\n",
    "        for i in xrange(num_nodes):\n",
    "            message = nodes[i]\n",
    "            if debug:\n",
    "                print(\"Generating message {} for all nodes\".format(message))\n",
    "            messages_delay = multicast(i,messages_delay,message,min_delay,max_delay)\n",
    "        for i in xrange(num_nodes):\n",
    "            if debug:\n",
    "                print \"Messages for node # {} : {}\".format(i,messages_delay[i])\n",
    "                print \"Previous value of  node # {}: {} : \".format(i,nodes[i])\n",
    "            nodes,messages_delay = receive_update(messages_delay,nodes,i,debug=debug)\n",
    "            if debug:\n",
    "                print \"Updated value of  node # {} :{} \".format(i,nodes[i])\n",
    "    if debug:\n",
    "        print(\"Final node values {}\".format(nodes))\n",
    "    return num_runs"
   ]
  },
  {
   "cell_type": "code",
   "execution_count": 3,
   "metadata": {},
   "outputs": [],
   "source": [
    "def plot_protocol(num_nodes,input_range,num_runs =10, min_delay=0,max_delay=5,e=0.1,steps=1, simul_concensus_protocol=simul_concensus_protocol):\n",
    "    averages = []\n",
    "    inputs = [i for i in range(0,input_range+1,steps)] #python increases i by the parameter steps for each loop\n",
    "    for input_ in inputs:\n",
    "        count = 0.0\n",
    "        for i in xrange(num_runs):\n",
    "            count+= simul_concensus_protocol(min_delay,max_delay,max_input=input_,num_nodes=num_nodes,e=e)\n",
    "        avg = count/num_runs\n",
    "        averages.append(avg)\n",
    "    plt.plot(inputs,averages,label=\"Epsilon : {} max_delay {}\".format(e,max_delay))\n",
    "    plt.xlabel(\"Max_inputs (min_input =0)\")\n",
    "    plt.ylabel(\"Average rounds before convergence for {} runs\".format(num_runs))\n",
    "    plt.title(\"Simulation for Concensus Protocol with {} nodes \".format(num_nodes))\n",
    "\n",
    "    \n"
   ]
  },
  {
   "cell_type": "code",
   "execution_count": 1,
   "metadata": {},
   "outputs": [
    {
     "ename": "NameError",
     "evalue": "name 'plot_protocol' is not defined",
     "output_type": "error",
     "traceback": [
      "\u001b[0;31m---------------------------------------------------------------------------\u001b[0m",
      "\u001b[0;31mNameError\u001b[0m                                 Traceback (most recent call last)",
      "\u001b[0;32m<ipython-input-1-424687f64bee>\u001b[0m in \u001b[0;36m<module>\u001b[0;34m()\u001b[0m\n\u001b[1;32m      2\u001b[0m     \u001b[0mepsilons\u001b[0m \u001b[0;34m=\u001b[0m \u001b[0;34m[\u001b[0m\u001b[0;36m0.1\u001b[0m\u001b[0;34m,\u001b[0m \u001b[0;36m0.8\u001b[0m\u001b[0;34m,\u001b[0m \u001b[0;36m0.6\u001b[0m\u001b[0;34m,\u001b[0m \u001b[0;36m0.4\u001b[0m\u001b[0;34m,\u001b[0m \u001b[0;36m0.2\u001b[0m\u001b[0;34m,\u001b[0m \u001b[0;36m0.01\u001b[0m\u001b[0;34m]\u001b[0m\u001b[0;34m\u001b[0m\u001b[0m\n\u001b[1;32m      3\u001b[0m     \u001b[0;32mfor\u001b[0m \u001b[0me\u001b[0m \u001b[0;32min\u001b[0m \u001b[0mepsilons\u001b[0m\u001b[0;34m:\u001b[0m\u001b[0;34m\u001b[0m\u001b[0m\n\u001b[0;32m----> 4\u001b[0;31m         \u001b[0mplot_protocol\u001b[0m\u001b[0;34m(\u001b[0m\u001b[0;36m100\u001b[0m\u001b[0;34m,\u001b[0m\u001b[0;36m100\u001b[0m\u001b[0;34m,\u001b[0m\u001b[0msteps\u001b[0m\u001b[0;34m=\u001b[0m\u001b[0;36m5\u001b[0m\u001b[0;34m,\u001b[0m\u001b[0me\u001b[0m\u001b[0;34m=\u001b[0m\u001b[0me\u001b[0m\u001b[0;34m)\u001b[0m\u001b[0;34m\u001b[0m\u001b[0m\n\u001b[0m\u001b[1;32m      5\u001b[0m     \u001b[0mplt\u001b[0m\u001b[0;34m.\u001b[0m\u001b[0mlegend\u001b[0m\u001b[0;34m(\u001b[0m\u001b[0mloc\u001b[0m\u001b[0;34m=\u001b[0m\u001b[0;34m'best'\u001b[0m\u001b[0;34m)\u001b[0m\u001b[0;34m\u001b[0m\u001b[0m\n\u001b[1;32m      6\u001b[0m     \u001b[0mplt\u001b[0m\u001b[0;34m.\u001b[0m\u001b[0mshow\u001b[0m\u001b[0;34m(\u001b[0m\u001b[0;34m)\u001b[0m\u001b[0;34m\u001b[0m\u001b[0m\n",
      "\u001b[0;31mNameError\u001b[0m: name 'plot_protocol' is not defined"
     ]
    }
   ],
   "source": [
    "if __name__ == \"__main__\":\n",
    "    epsilons = [0.1, 0.8, 0.6, 0.4, 0.2, 0.01]\n",
    "    for e in epsilons:\n",
    "        plot_protocol(100,100,steps=5,e=e)\n",
    "    plt.legend(loc='best')\n",
    "    plt.show()\n",
    "    max_delays = [2,4,6,8,10]\n",
    "    for max_delay in max_delays:\n",
    "        plot_protocol(100,100,steps=5,max_delay=max_delay)\n",
    "    plt.legend(loc='best')\n",
    "    plt.show()"
   ]
  }
 ],
 "metadata": {
  "kernelspec": {
   "display_name": "Python 2",
   "language": "python",
   "name": "python2"
  },
  "language_info": {
   "codemirror_mode": {
    "name": "ipython",
    "version": 2
   },
   "file_extension": ".py",
   "mimetype": "text/x-python",
   "name": "python",
   "nbconvert_exporter": "python",
   "pygments_lexer": "ipython2",
   "version": "2.7.13"
  }
 },
 "nbformat": 4,
 "nbformat_minor": 2
}
